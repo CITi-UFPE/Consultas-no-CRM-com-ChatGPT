{
 "cells": [
  {
   "cell_type": "markdown",
   "metadata": {},
   "source": [
    "### Importando libs"
   ]
  },
  {
   "cell_type": "code",
   "execution_count": 2,
   "metadata": {},
   "outputs": [],
   "source": [
    "import pandas as pd"
   ]
  },
  {
   "cell_type": "markdown",
   "metadata": {},
   "source": [
    "### Carregando dataset e renomeando colunas"
   ]
  },
  {
   "cell_type": "code",
   "execution_count": 5,
   "metadata": {},
   "outputs": [
    {
     "data": {
      "text/html": [
       "<div>\n",
       "<style scoped>\n",
       "    .dataframe tbody tr th:only-of-type {\n",
       "        vertical-align: middle;\n",
       "    }\n",
       "\n",
       "    .dataframe tbody tr th {\n",
       "        vertical-align: top;\n",
       "    }\n",
       "\n",
       "    .dataframe thead th {\n",
       "        text-align: right;\n",
       "    }\n",
       "</style>\n",
       "<table border=\"1\" class=\"dataframe\">\n",
       "  <thead>\n",
       "    <tr style=\"text-align: right;\">\n",
       "      <th></th>\n",
       "      <th>Fase atual</th>\n",
       "      <th>Criado em</th>\n",
       "      <th>Nome do cliente</th>\n",
       "      <th>Empresa</th>\n",
       "      <th>Responsável</th>\n",
       "      <th>Perfil de cliente</th>\n",
       "      <th>Setor</th>\n",
       "      <th>Checklist vertical</th>\n",
       "      <th>Origem</th>\n",
       "      <th>Valor Final</th>\n",
       "      <th>Motivo da perda</th>\n",
       "      <th>Motivo da não qualificação</th>\n",
       "      <th>Tempo total na fase Base de prospects (dias)</th>\n",
       "      <th>Tempo total na fase Qualificação (dias)</th>\n",
       "      <th>Tempo total na fase Diagnóstico (dias)</th>\n",
       "      <th>Tempo total na fase Montagem de proposta (dias)</th>\n",
       "      <th>Tempo total na fase Apresentação de proposta (dias)</th>\n",
       "      <th>Tempo total na fase Negociação (dias)</th>\n",
       "      <th>Primeira vez que entrou na fase Ganho</th>\n",
       "      <th>Tempo total na fase Renegociação (dias)</th>\n",
       "    </tr>\n",
       "  </thead>\n",
       "  <tbody>\n",
       "    <tr>\n",
       "      <th>0</th>\n",
       "      <td>Perdido</td>\n",
       "      <td>2023-01-10 16:39:31</td>\n",
       "      <td>André Borges</td>\n",
       "      <td>SolarGrid</td>\n",
       "      <td>Pedro de Lima Fernandes Costa</td>\n",
       "      <td>Empresa consolidada</td>\n",
       "      <td>Energia e Sustentabilidade</td>\n",
       "      <td>Desenvolvimento Web, Site institucional</td>\n",
       "      <td>Marketing</td>\n",
       "      <td>NaN</td>\n",
       "      <td>NaN</td>\n",
       "      <td>NaN</td>\n",
       "      <td>11,607384</td>\n",
       "      <td>NaN</td>\n",
       "      <td>NaN</td>\n",
       "      <td>13,676065</td>\n",
       "      <td>11,066725</td>\n",
       "      <td>29,942431</td>\n",
       "      <td>NaN</td>\n",
       "      <td>191,724201</td>\n",
       "    </tr>\n",
       "    <tr>\n",
       "      <th>1</th>\n",
       "      <td>Perdido</td>\n",
       "      <td>2023-01-10 16:39:39</td>\n",
       "      <td>Neura Fatima Oliveira</td>\n",
       "      <td>NaN</td>\n",
       "      <td>Geraldo Durães de Carvalho Filho</td>\n",
       "      <td>NaN</td>\n",
       "      <td>Saúde e Cuidados Médicos</td>\n",
       "      <td>Desenvolvimento Web</td>\n",
       "      <td>Marketing</td>\n",
       "      <td>NaN</td>\n",
       "      <td>NaN</td>\n",
       "      <td>NaN</td>\n",
       "      <td>2,108935</td>\n",
       "      <td>NaN</td>\n",
       "      <td>NaN</td>\n",
       "      <td>NaN</td>\n",
       "      <td>NaN</td>\n",
       "      <td>NaN</td>\n",
       "      <td>NaN</td>\n",
       "      <td>NaN</td>\n",
       "    </tr>\n",
       "    <tr>\n",
       "      <th>2</th>\n",
       "      <td>Perdido</td>\n",
       "      <td>2023-01-10 16:43:33</td>\n",
       "      <td>Thiago Perini</td>\n",
       "      <td>NaN</td>\n",
       "      <td>Igor Corrêa</td>\n",
       "      <td>NaN</td>\n",
       "      <td>NaN</td>\n",
       "      <td>NaN</td>\n",
       "      <td>Marketing</td>\n",
       "      <td>NaN</td>\n",
       "      <td>NaN</td>\n",
       "      <td>NaN</td>\n",
       "      <td>21,039074</td>\n",
       "      <td>NaN</td>\n",
       "      <td>NaN</td>\n",
       "      <td>NaN</td>\n",
       "      <td>NaN</td>\n",
       "      <td>NaN</td>\n",
       "      <td>NaN</td>\n",
       "      <td>NaN</td>\n",
       "    </tr>\n",
       "    <tr>\n",
       "      <th>3</th>\n",
       "      <td>Perdido</td>\n",
       "      <td>2023-01-10 16:46:44</td>\n",
       "      <td>Ana Júlia</td>\n",
       "      <td>Futuras Cientistas</td>\n",
       "      <td>Igor Corrêa</td>\n",
       "      <td>Empresa consolidada</td>\n",
       "      <td>Ciências e Inovação</td>\n",
       "      <td>Desenvolvimento Web</td>\n",
       "      <td>Marketing</td>\n",
       "      <td>NaN</td>\n",
       "      <td>NaN</td>\n",
       "      <td>NaN</td>\n",
       "      <td>2,108194</td>\n",
       "      <td>NaN</td>\n",
       "      <td>NaN</td>\n",
       "      <td>NaN</td>\n",
       "      <td>NaN</td>\n",
       "      <td>NaN</td>\n",
       "      <td>NaN</td>\n",
       "      <td>NaN</td>\n",
       "    </tr>\n",
       "    <tr>\n",
       "      <th>4</th>\n",
       "      <td>Perdido</td>\n",
       "      <td>2023-01-10 16:47:56</td>\n",
       "      <td>Arthur</td>\n",
       "      <td>NaN</td>\n",
       "      <td>Geraldo Durães de Carvalho Filho</td>\n",
       "      <td>Startup</td>\n",
       "      <td>NaN</td>\n",
       "      <td>NaN</td>\n",
       "      <td>Marketing</td>\n",
       "      <td>NaN</td>\n",
       "      <td>Sem Orçamento</td>\n",
       "      <td>NaN</td>\n",
       "      <td>2,183924</td>\n",
       "      <td>NaN</td>\n",
       "      <td>NaN</td>\n",
       "      <td>NaN</td>\n",
       "      <td>NaN</td>\n",
       "      <td>NaN</td>\n",
       "      <td>NaN</td>\n",
       "      <td>NaN</td>\n",
       "    </tr>\n",
       "  </tbody>\n",
       "</table>\n",
       "</div>"
      ],
      "text/plain": [
       "  Fase atual            Criado em        Nome do cliente             Empresa  \\\n",
       "0    Perdido  2023-01-10 16:39:31           André Borges           SolarGrid   \n",
       "1    Perdido  2023-01-10 16:39:39  Neura Fatima Oliveira                 NaN   \n",
       "2    Perdido  2023-01-10 16:43:33          Thiago Perini                 NaN   \n",
       "3    Perdido  2023-01-10 16:46:44              Ana Júlia  Futuras Cientistas   \n",
       "4    Perdido  2023-01-10 16:47:56                 Arthur                 NaN   \n",
       "\n",
       "                        Responsável    Perfil de cliente  \\\n",
       "0     Pedro de Lima Fernandes Costa  Empresa consolidada   \n",
       "1  Geraldo Durães de Carvalho Filho                  NaN   \n",
       "2                       Igor Corrêa                  NaN   \n",
       "3                       Igor Corrêa  Empresa consolidada   \n",
       "4  Geraldo Durães de Carvalho Filho              Startup   \n",
       "\n",
       "                        Setor                       Checklist vertical  \\\n",
       "0  Energia e Sustentabilidade  Desenvolvimento Web, Site institucional   \n",
       "1    Saúde e Cuidados Médicos                      Desenvolvimento Web   \n",
       "2                         NaN                                      NaN   \n",
       "3         Ciências e Inovação                      Desenvolvimento Web   \n",
       "4                         NaN                                      NaN   \n",
       "\n",
       "      Origem Valor Final Motivo da perda Motivo da não qualificação  \\\n",
       "0  Marketing         NaN             NaN                        NaN   \n",
       "1  Marketing         NaN             NaN                        NaN   \n",
       "2  Marketing         NaN             NaN                        NaN   \n",
       "3  Marketing         NaN             NaN                        NaN   \n",
       "4  Marketing         NaN   Sem Orçamento                        NaN   \n",
       "\n",
       "  Tempo total na fase Base de prospects (dias)  \\\n",
       "0                                    11,607384   \n",
       "1                                     2,108935   \n",
       "2                                    21,039074   \n",
       "3                                     2,108194   \n",
       "4                                     2,183924   \n",
       "\n",
       "  Tempo total na fase Qualificação (dias)  \\\n",
       "0                                     NaN   \n",
       "1                                     NaN   \n",
       "2                                     NaN   \n",
       "3                                     NaN   \n",
       "4                                     NaN   \n",
       "\n",
       "  Tempo total na fase Diagnóstico (dias)  \\\n",
       "0                                    NaN   \n",
       "1                                    NaN   \n",
       "2                                    NaN   \n",
       "3                                    NaN   \n",
       "4                                    NaN   \n",
       "\n",
       "  Tempo total na fase Montagem de proposta (dias)  \\\n",
       "0                                       13,676065   \n",
       "1                                             NaN   \n",
       "2                                             NaN   \n",
       "3                                             NaN   \n",
       "4                                             NaN   \n",
       "\n",
       "  Tempo total na fase Apresentação de proposta (dias)  \\\n",
       "0                                          11,066725    \n",
       "1                                                NaN    \n",
       "2                                                NaN    \n",
       "3                                                NaN    \n",
       "4                                                NaN    \n",
       "\n",
       "  Tempo total na fase Negociação (dias) Primeira vez que entrou na fase Ganho  \\\n",
       "0                             29,942431                                   NaN   \n",
       "1                                   NaN                                   NaN   \n",
       "2                                   NaN                                   NaN   \n",
       "3                                   NaN                                   NaN   \n",
       "4                                   NaN                                   NaN   \n",
       "\n",
       "  Tempo total na fase Renegociação (dias)  \n",
       "0                              191,724201  \n",
       "1                                     NaN  \n",
       "2                                     NaN  \n",
       "3                                     NaN  \n",
       "4                                     NaN  "
      ]
     },
     "execution_count": 5,
     "metadata": {},
     "output_type": "execute_result"
    }
   ],
   "source": [
    "df = pd.read_csv(r'C:\\Users\\maabo\\OneDrive\\Área de Trabalho\\Chat_CRM\\dados\\Banco de Dados Comercial (OFICIAL) - Upload.csv')\n",
    "df.head()"
   ]
  },
  {
   "cell_type": "code",
   "execution_count": 6,
   "metadata": {},
   "outputs": [],
   "source": [
    "df = df.rename(columns={'Criado em': 'Data de cadastro', 'Responsável': 'Vendedor'})"
   ]
  },
  {
   "cell_type": "markdown",
   "metadata": {},
   "source": [
    "### Explorando o dataset\n",
    "\n",
    "- Nessa etapa vamos explorar algumas características do dataset para, posteriormente, conseguir explicar melhor para o modelo do que se trata cada coluna."
   ]
  },
  {
   "cell_type": "code",
   "execution_count": 7,
   "metadata": {},
   "outputs": [
    {
     "data": {
      "text/plain": [
       "Fase atual                                              10\n",
       "Data de cadastro                                       364\n",
       "Nome do cliente                                        333\n",
       "Empresa                                                239\n",
       "Vendedor                                                19\n",
       "Perfil de cliente                                        5\n",
       "Setor                                                   32\n",
       "Checklist vertical                                      38\n",
       "Origem                                                  13\n",
       "Valor Final                                             64\n",
       "Motivo da perda                                          5\n",
       "Motivo da não qualificação                              22\n",
       "Tempo total na fase Base de prospects (dias)           275\n",
       "Tempo total na fase Qualificação (dias)                158\n",
       "Tempo total na fase Diagnóstico (dias)                 186\n",
       "Tempo total na fase Montagem de proposta (dias)        181\n",
       "Tempo total na fase Apresentação de proposta (dias)    130\n",
       "Tempo total na fase Negociação (dias)                  146\n",
       "Primeira vez que entrou na fase Ganho                   37\n",
       "Tempo total na fase Renegociação (dias)                105\n",
       "dtype: int64"
      ]
     },
     "execution_count": 7,
     "metadata": {},
     "output_type": "execute_result"
    }
   ],
   "source": [
    "df.nunique()"
   ]
  },
  {
   "cell_type": "code",
   "execution_count": 8,
   "metadata": {},
   "outputs": [
    {
     "name": "stdout",
     "output_type": "stream",
     "text": [
      "['Marketing' 'Indicação de Ej' nan 'UFPE' 'Indicação MEJ' 'Parcerias'\n",
      " 'Ex cliente' 'Comunidade CITi' 'Prospecção Ativa' 'CIn' 'Porto Digital'\n",
      " 'Membre do CITi' 'Eventos' 'Renegociação']\n"
     ]
    }
   ],
   "source": [
    "print(df['Origem'].unique())"
   ]
  },
  {
   "cell_type": "markdown",
   "metadata": {},
   "source": [
    "### Tratando os dados"
   ]
  },
  {
   "cell_type": "code",
   "execution_count": 9,
   "metadata": {},
   "outputs": [],
   "source": [
    "# Remover o símbolo de moeda e espaços extras\n",
    "df['Valor Final'] = df['Valor Final'].str.replace('R$', '', regex=False).str.strip()\n",
    "\n",
    "# Remover o separador de milhar (ponto)\n",
    "df['Valor Final'] = df['Valor Final'].str.replace('.', '', regex=False)\n",
    "\n",
    "# Substituir a vírgula pelo ponto (separador decimal)\n",
    "df['Valor Final'] = df['Valor Final'].str.replace(',', '.', regex=False)\n",
    "\n",
    "# Converter para float\n",
    "df['Valor Final'] = df['Valor Final'].astype(float)"
   ]
  },
  {
   "cell_type": "code",
   "execution_count": 11,
   "metadata": {},
   "outputs": [],
   "source": [
    "# Definir uma lista com os nomes das colunas\n",
    "colunas = [\n",
    "    'Tempo total na fase Base de prospects (dias)',\n",
    "    'Tempo total na fase Qualificação (dias)',\n",
    "    'Tempo total na fase Diagnóstico (dias)',\n",
    "    'Tempo total na fase Montagem de proposta (dias)',\n",
    "    'Tempo total na fase Apresentação de proposta (dias)',\n",
    "    'Tempo total na fase Negociação (dias)',\n",
    "    'Tempo total na fase Renegociação (dias)'\n",
    "]\n",
    "\n",
    "# Substituir a vírgula pelo ponto (separador decimal) em cada string nas colunas\n",
    "df[colunas] = df[colunas].apply(lambda x: x.str.replace(',', '.'))\n",
    "\n",
    "# Converter para float\n",
    "df[colunas] = df[colunas].astype(float)"
   ]
  },
  {
   "cell_type": "code",
   "execution_count": 18,
   "metadata": {},
   "outputs": [],
   "source": [
    "# Remover frações de segundo, se existirem\n",
    "df['Data de cadastro'] = df['Data de cadastro'].str.split('.').str[0]\n",
    "df['Primeira vez que entrou na fase Ganho'] = df['Primeira vez que entrou na fase Ganho'].str.split('.').str[0]\n",
    "\n",
    "# Converter para datetime\n",
    "df['Data de cadastro'] = pd.to_datetime(df['Data de cadastro'], format='%Y-%m-%d %H:%M:%S', errors='coerce')\n",
    "df['Primeira vez que entrou na fase Ganho'] = pd.to_datetime(df['Primeira vez que entrou na fase Ganho'], format='%Y-%m-%d %H:%M:%S', errors='coerce')"
   ]
  },
  {
   "cell_type": "code",
   "execution_count": 19,
   "metadata": {},
   "outputs": [
    {
     "name": "stdout",
     "output_type": "stream",
     "text": [
      "<class 'pandas.core.frame.DataFrame'>\n",
      "RangeIndex: 364 entries, 0 to 363\n",
      "Data columns (total 20 columns):\n",
      " #   Column                                               Non-Null Count  Dtype         \n",
      "---  ------                                               --------------  -----         \n",
      " 0   Fase atual                                           364 non-null    object        \n",
      " 1   Data de cadastro                                     364 non-null    datetime64[ns]\n",
      " 2   Nome do cliente                                      364 non-null    object        \n",
      " 3   Empresa                                              260 non-null    object        \n",
      " 4   Vendedor                                             364 non-null    object        \n",
      " 5   Perfil de cliente                                    353 non-null    object        \n",
      " 6   Setor                                                288 non-null    object        \n",
      " 7   Checklist vertical                                   275 non-null    object        \n",
      " 8   Origem                                               352 non-null    object        \n",
      " 9   Valor Final                                          81 non-null     float64       \n",
      " 10  Motivo da perda                                      38 non-null     object        \n",
      " 11  Motivo da não qualificação                           22 non-null     object        \n",
      " 12  Tempo total na fase Base de prospects (dias)         364 non-null    float64       \n",
      " 13  Tempo total na fase Qualificação (dias)              193 non-null    float64       \n",
      " 14  Tempo total na fase Diagnóstico (dias)               207 non-null    float64       \n",
      " 15  Tempo total na fase Montagem de proposta (dias)      182 non-null    float64       \n",
      " 16  Tempo total na fase Apresentação de proposta (dias)  150 non-null    float64       \n",
      " 17  Tempo total na fase Negociação (dias)                146 non-null    float64       \n",
      " 18  Primeira vez que entrou na fase Ganho                37 non-null     datetime64[ns]\n",
      " 19  Tempo total na fase Renegociação (dias)              105 non-null    float64       \n",
      "dtypes: datetime64[ns](2), float64(8), object(10)\n",
      "memory usage: 57.0+ KB\n"
     ]
    }
   ],
   "source": [
    "df.info()"
   ]
  },
  {
   "cell_type": "code",
   "execution_count": 21,
   "metadata": {},
   "outputs": [
    {
     "data": {
      "text/html": [
       "<div>\n",
       "<style scoped>\n",
       "    .dataframe tbody tr th:only-of-type {\n",
       "        vertical-align: middle;\n",
       "    }\n",
       "\n",
       "    .dataframe tbody tr th {\n",
       "        vertical-align: top;\n",
       "    }\n",
       "\n",
       "    .dataframe thead th {\n",
       "        text-align: right;\n",
       "    }\n",
       "</style>\n",
       "<table border=\"1\" class=\"dataframe\">\n",
       "  <thead>\n",
       "    <tr style=\"text-align: right;\">\n",
       "      <th></th>\n",
       "      <th>Responsável</th>\n",
       "      <th>Total de Vendas</th>\n",
       "    </tr>\n",
       "  </thead>\n",
       "  <tbody>\n",
       "    <tr>\n",
       "      <th>0</th>\n",
       "      <td>Camila Chagas</td>\n",
       "      <td>123100.0</td>\n",
       "    </tr>\n",
       "    <tr>\n",
       "      <th>1</th>\n",
       "      <td>Geraldo Durães de Carvalho Filho</td>\n",
       "      <td>64100.0</td>\n",
       "    </tr>\n",
       "    <tr>\n",
       "      <th>2</th>\n",
       "      <td>Hillary Costa</td>\n",
       "      <td>18400.0</td>\n",
       "    </tr>\n",
       "    <tr>\n",
       "      <th>3</th>\n",
       "      <td>Hugo Guedes</td>\n",
       "      <td>5880.0</td>\n",
       "    </tr>\n",
       "    <tr>\n",
       "      <th>4</th>\n",
       "      <td>Igor Corrêa</td>\n",
       "      <td>480350.0</td>\n",
       "    </tr>\n",
       "    <tr>\n",
       "      <th>5</th>\n",
       "      <td>João Gabriel Carneiro de Oliveira</td>\n",
       "      <td>333000.0</td>\n",
       "    </tr>\n",
       "    <tr>\n",
       "      <th>6</th>\n",
       "      <td>Nayara VIthória Araújo de Sena</td>\n",
       "      <td>9000.0</td>\n",
       "    </tr>\n",
       "    <tr>\n",
       "      <th>7</th>\n",
       "      <td>Pedro de Lima Fernandes Costa</td>\n",
       "      <td>103800.0</td>\n",
       "    </tr>\n",
       "    <tr>\n",
       "      <th>8</th>\n",
       "      <td>Vinicius Zorrilla</td>\n",
       "      <td>14000.0</td>\n",
       "    </tr>\n",
       "  </tbody>\n",
       "</table>\n",
       "</div>"
      ],
      "text/plain": [
       "                         Responsável  Total de Vendas\n",
       "0                      Camila Chagas         123100.0\n",
       "1   Geraldo Durães de Carvalho Filho          64100.0\n",
       "2                      Hillary Costa          18400.0\n",
       "3                        Hugo Guedes           5880.0\n",
       "4                        Igor Corrêa         480350.0\n",
       "5  João Gabriel Carneiro de Oliveira         333000.0\n",
       "6     Nayara VIthória Araújo de Sena           9000.0\n",
       "7      Pedro de Lima Fernandes Costa         103800.0\n",
       "8                  Vinicius Zorrilla          14000.0"
      ]
     },
     "execution_count": 21,
     "metadata": {},
     "output_type": "execute_result"
    }
   ],
   "source": [
    "# Filtrar apenas as oportunidades que foram ganhas\n",
    "df_vendas = df[df['Fase atual'] == 'Ganho']\n",
    "\n",
    "# Agrupar por 'Responsável' e somar as vendas\n",
    "vendas_por_vendedor = df_vendas.groupby('Vendedor')['Valor Final'].sum().reset_index()\n",
    "\n",
    "# Renomear as colunas para melhor compreensão\n",
    "vendas_por_vendedor.columns = ['Responsável', 'Total de Vendas']\n",
    "\n",
    "# Exibir o resultado\n",
    "vendas_por_vendedor"
   ]
  },
  {
   "cell_type": "code",
   "execution_count": 15,
   "metadata": {},
   "outputs": [
    {
     "data": {
      "text/plain": [
       "count        81.000000\n",
       "mean      32090.493827\n",
       "std       35921.025455\n",
       "min         750.000000\n",
       "25%        9000.000000\n",
       "50%       18200.000000\n",
       "75%       43500.000000\n",
       "max      165000.000000\n",
       "Name: Valor Final, dtype: float64"
      ]
     },
     "execution_count": 15,
     "metadata": {},
     "output_type": "execute_result"
    }
   ],
   "source": [
    "df['Valor Final'].describe()"
   ]
  },
  {
   "cell_type": "code",
   "execution_count": 23,
   "metadata": {},
   "outputs": [],
   "source": [
    "df.to_pickle('base_CRM')"
   ]
  },
  {
   "cell_type": "code",
   "execution_count": 26,
   "metadata": {},
   "outputs": [],
   "source": [
    "df.to_csv('df_CRM.csv', index=False, sep=',', decimal='.')"
   ]
  },
  {
   "cell_type": "code",
   "execution_count": 31,
   "metadata": {},
   "outputs": [],
   "source": [
    "df_crm = pd.read_csv(r'C:\\Users\\maabo\\OneDrive\\Área de Trabalho\\Chat_CRM\\df_CRM.csv')"
   ]
  },
  {
   "cell_type": "code",
   "execution_count": 32,
   "metadata": {},
   "outputs": [
    {
     "name": "stdout",
     "output_type": "stream",
     "text": [
      "<class 'pandas.core.frame.DataFrame'>\n",
      "RangeIndex: 364 entries, 0 to 363\n",
      "Data columns (total 20 columns):\n",
      " #   Column                                               Non-Null Count  Dtype  \n",
      "---  ------                                               --------------  -----  \n",
      " 0   Fase atual                                           364 non-null    object \n",
      " 1   Data de cadastro                                     364 non-null    object \n",
      " 2   Nome do cliente                                      364 non-null    object \n",
      " 3   Empresa                                              260 non-null    object \n",
      " 4   Vendedor                                             364 non-null    object \n",
      " 5   Perfil de cliente                                    353 non-null    object \n",
      " 6   Setor                                                288 non-null    object \n",
      " 7   Checklist vertical                                   275 non-null    object \n",
      " 8   Origem                                               352 non-null    object \n",
      " 9   Valor Final                                          81 non-null     float64\n",
      " 10  Motivo da perda                                      38 non-null     object \n",
      " 11  Motivo da não qualificação                           22 non-null     object \n",
      " 12  Tempo total na fase Base de prospects (dias)         364 non-null    float64\n",
      " 13  Tempo total na fase Qualificação (dias)              193 non-null    float64\n",
      " 14  Tempo total na fase Diagnóstico (dias)               207 non-null    float64\n",
      " 15  Tempo total na fase Montagem de proposta (dias)      182 non-null    float64\n",
      " 16  Tempo total na fase Apresentação de proposta (dias)  150 non-null    float64\n",
      " 17  Tempo total na fase Negociação (dias)                146 non-null    float64\n",
      " 18  Primeira vez que entrou na fase Ganho                37 non-null     object \n",
      " 19  Tempo total na fase Renegociação (dias)              105 non-null    float64\n",
      "dtypes: float64(8), object(12)\n",
      "memory usage: 57.0+ KB\n"
     ]
    }
   ],
   "source": [
    "df_crm.info()"
   ]
  },
  {
   "cell_type": "code",
   "execution_count": null,
   "metadata": {},
   "outputs": [],
   "source": []
  }
 ],
 "metadata": {
  "kernelspec": {
   "display_name": "Python 3",
   "language": "python",
   "name": "python3"
  },
  "language_info": {
   "codemirror_mode": {
    "name": "ipython",
    "version": 3
   },
   "file_extension": ".py",
   "mimetype": "text/x-python",
   "name": "python",
   "nbconvert_exporter": "python",
   "pygments_lexer": "ipython3",
   "version": "3.10.5"
  }
 },
 "nbformat": 4,
 "nbformat_minor": 2
}
