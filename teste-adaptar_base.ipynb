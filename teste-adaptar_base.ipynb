{
 "cells": [
  {
   "cell_type": "code",
   "execution_count": 6,
   "metadata": {},
   "outputs": [],
   "source": [
    "import pandas as pd\n",
    "mock_dados = pd.read_csv(r'data\\base_mockada.csv')\n",
    "real_dados = pd.read_csv(r'data\\df_CRM.csv')"
   ]
  },
  {
   "cell_type": "code",
   "execution_count": 7,
   "metadata": {},
   "outputs": [
    {
     "name": "stdout",
     "output_type": "stream",
     "text": [
      "<class 'pandas.core.frame.DataFrame'>\n",
      "RangeIndex: 73 entries, 0 to 72\n",
      "Data columns (total 21 columns):\n",
      " #   Column                                               Non-Null Count  Dtype  \n",
      "---  ------                                               --------------  -----  \n",
      " 0   Fase atual                                           73 non-null     object \n",
      " 1   Data de cadastro                                     73 non-null     object \n",
      " 2   Nome do cliente                                      73 non-null     object \n",
      " 3   Empresa                                              61 non-null     object \n",
      " 4   Vendedor                                             73 non-null     object \n",
      " 5   Perfil de cliente                                    73 non-null     object \n",
      " 6   Setor                                                73 non-null     object \n",
      " 7   Checklist vertical                                   64 non-null     object \n",
      " 8   Origem                                               72 non-null     object \n",
      " 9   Valor Final                                          40 non-null     float64\n",
      " 10  Motivo da perda                                      1 non-null      object \n",
      " 11  Motivo da não qualificação                           2 non-null      object \n",
      " 12  Tempo total na fase Base de prospects (dias)         73 non-null     object \n",
      " 13  Tempo total na fase Qualificação (dias)              38 non-null     object \n",
      " 14  Tempo total na fase Diagnóstico (dias)               47 non-null     object \n",
      " 15  Tempo total na fase Montagem de proposta (dias)      45 non-null     object \n",
      " 16  Tempo total na fase Apresentação de proposta (dias)  41 non-null     object \n",
      " 17  Tempo total na fase Negociação (dias)                46 non-null     object \n",
      " 18  Primeira vez que entrou na fase Ganho                31 non-null     object \n",
      " 19  Tempo total na fase Renegociação (dias)              21 non-null     object \n",
      " 20  Tempo total do negócio (dias)                        43 non-null     object \n",
      "dtypes: float64(1), object(20)\n",
      "memory usage: 12.1+ KB\n"
     ]
    }
   ],
   "source": [
    "mock_dados.info()"
   ]
  },
  {
   "cell_type": "code",
   "execution_count": 8,
   "metadata": {},
   "outputs": [
    {
     "name": "stdout",
     "output_type": "stream",
     "text": [
      "<class 'pandas.core.frame.DataFrame'>\n",
      "RangeIndex: 364 entries, 0 to 363\n",
      "Data columns (total 20 columns):\n",
      " #   Column                                               Non-Null Count  Dtype  \n",
      "---  ------                                               --------------  -----  \n",
      " 0   Fase atual                                           364 non-null    object \n",
      " 1   Data de cadastro                                     364 non-null    object \n",
      " 2   Nome do cliente                                      364 non-null    object \n",
      " 3   Empresa                                              260 non-null    object \n",
      " 4   Vendedor                                             364 non-null    object \n",
      " 5   Perfil de cliente                                    353 non-null    object \n",
      " 6   Setor                                                288 non-null    object \n",
      " 7   Checklist vertical                                   275 non-null    object \n",
      " 8   Origem                                               352 non-null    object \n",
      " 9   Valor Final                                          81 non-null     float64\n",
      " 10  Motivo da perda                                      38 non-null     object \n",
      " 11  Motivo da não qualificação                           22 non-null     object \n",
      " 12  Tempo total na fase Base de prospects (dias)         364 non-null    float64\n",
      " 13  Tempo total na fase Qualificação (dias)              193 non-null    float64\n",
      " 14  Tempo total na fase Diagnóstico (dias)               207 non-null    float64\n",
      " 15  Tempo total na fase Montagem de proposta (dias)      182 non-null    float64\n",
      " 16  Tempo total na fase Apresentação de proposta (dias)  150 non-null    float64\n",
      " 17  Tempo total na fase Negociação (dias)                146 non-null    float64\n",
      " 18  Primeira vez que entrou na fase Ganho                37 non-null     object \n",
      " 19  Tempo total na fase Renegociação (dias)              105 non-null    float64\n",
      "dtypes: float64(8), object(12)\n",
      "memory usage: 57.0+ KB\n"
     ]
    }
   ],
   "source": [
    "real_dados.info()"
   ]
  },
  {
   "cell_type": "code",
   "execution_count": null,
   "metadata": {},
   "outputs": [],
   "source": []
  }
 ],
 "metadata": {
  "kernelspec": {
   "display_name": "Python 3",
   "language": "python",
   "name": "python3"
  },
  "language_info": {
   "codemirror_mode": {
    "name": "ipython",
    "version": 3
   },
   "file_extension": ".py",
   "mimetype": "text/x-python",
   "name": "python",
   "nbconvert_exporter": "python",
   "pygments_lexer": "ipython3",
   "version": "3.10.5"
  }
 },
 "nbformat": 4,
 "nbformat_minor": 2
}
